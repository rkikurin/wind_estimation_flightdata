{
 "cells": [
  {
   "cell_type": "markdown",
   "metadata": {},
   "source": [
    "# wind_estimation_flightdata\n"
   ]
  },
  {
   "cell_type": "code",
   "execution_count": 45,
   "metadata": {},
   "outputs": [],
   "source": [
    "import sys\n",
    "sys.path.append('../Code')\n",
    "import calcWind\n",
    "import pandas as pd\n",
    "import numpy as np\n",
    "import matplotlib.pyplot as plt\n"
   ]
  },
  {
   "cell_type": "code",
   "execution_count": 46,
   "metadata": {},
   "outputs": [
    {
     "data": {
      "text/html": [
       "<div>\n",
       "<style scoped>\n",
       "    .dataframe tbody tr th:only-of-type {\n",
       "        vertical-align: middle;\n",
       "    }\n",
       "\n",
       "    .dataframe tbody tr th {\n",
       "        vertical-align: top;\n",
       "    }\n",
       "\n",
       "    .dataframe thead th {\n",
       "        text-align: right;\n",
       "    }\n",
       "</style>\n",
       "<table border=\"1\" class=\"dataframe\">\n",
       "  <thead>\n",
       "    <tr style=\"text-align: right;\">\n",
       "      <th></th>\n",
       "      <th>Time</th>\n",
       "      <th>alpha</th>\n",
       "      <th>beta</th>\n",
       "      <th>phi</th>\n",
       "      <th>theta</th>\n",
       "      <th>psi</th>\n",
       "      <th>INS_U</th>\n",
       "      <th>INS_V</th>\n",
       "      <th>INS_W</th>\n",
       "      <th>TAS</th>\n",
       "    </tr>\n",
       "  </thead>\n",
       "  <tbody>\n",
       "    <tr>\n",
       "      <th>0</th>\n",
       "      <td>0.0</td>\n",
       "      <td>0.038827</td>\n",
       "      <td>-0.000083</td>\n",
       "      <td>0.022341</td>\n",
       "      <td>0.041344</td>\n",
       "      <td>4.722646</td>\n",
       "      <td>51.160800</td>\n",
       "      <td>-126.995137</td>\n",
       "      <td>-0.367366</td>\n",
       "      <td>141.050807</td>\n",
       "    </tr>\n",
       "    <tr>\n",
       "      <th>1</th>\n",
       "      <td>0.1</td>\n",
       "      <td>0.038841</td>\n",
       "      <td>-0.000088</td>\n",
       "      <td>0.022429</td>\n",
       "      <td>0.041436</td>\n",
       "      <td>4.722768</td>\n",
       "      <td>51.174434</td>\n",
       "      <td>-126.989162</td>\n",
       "      <td>-0.353119</td>\n",
       "      <td>141.049171</td>\n",
       "    </tr>\n",
       "    <tr>\n",
       "      <th>2</th>\n",
       "      <td>0.2</td>\n",
       "      <td>0.038856</td>\n",
       "      <td>-0.000092</td>\n",
       "      <td>0.022502</td>\n",
       "      <td>0.041530</td>\n",
       "      <td>4.722888</td>\n",
       "      <td>51.188067</td>\n",
       "      <td>-126.983188</td>\n",
       "      <td>-0.338720</td>\n",
       "      <td>141.047463</td>\n",
       "    </tr>\n",
       "    <tr>\n",
       "      <th>3</th>\n",
       "      <td>0.3</td>\n",
       "      <td>0.038870</td>\n",
       "      <td>-0.000094</td>\n",
       "      <td>0.022562</td>\n",
       "      <td>0.041626</td>\n",
       "      <td>4.723007</td>\n",
       "      <td>51.201701</td>\n",
       "      <td>-126.977060</td>\n",
       "      <td>-0.324168</td>\n",
       "      <td>141.045705</td>\n",
       "    </tr>\n",
       "    <tr>\n",
       "      <th>4</th>\n",
       "      <td>0.4</td>\n",
       "      <td>0.038885</td>\n",
       "      <td>-0.000096</td>\n",
       "      <td>0.022604</td>\n",
       "      <td>0.041722</td>\n",
       "      <td>4.723125</td>\n",
       "      <td>51.215334</td>\n",
       "      <td>-126.970780</td>\n",
       "      <td>-0.309309</td>\n",
       "      <td>141.043881</td>\n",
       "    </tr>\n",
       "  </tbody>\n",
       "</table>\n",
       "</div>"
      ],
      "text/plain": [
       "   Time     alpha      beta       phi     theta       psi      INS_U  \\\n",
       "0   0.0  0.038827 -0.000083  0.022341  0.041344  4.722646  51.160800   \n",
       "1   0.1  0.038841 -0.000088  0.022429  0.041436  4.722768  51.174434   \n",
       "2   0.2  0.038856 -0.000092  0.022502  0.041530  4.722888  51.188067   \n",
       "3   0.3  0.038870 -0.000094  0.022562  0.041626  4.723007  51.201701   \n",
       "4   0.4  0.038885 -0.000096  0.022604  0.041722  4.723125  51.215334   \n",
       "\n",
       "        INS_V     INS_W         TAS  \n",
       "0 -126.995137 -0.367366  141.050807  \n",
       "1 -126.989162 -0.353119  141.049171  \n",
       "2 -126.983188 -0.338720  141.047463  \n",
       "3 -126.977060 -0.324168  141.045705  \n",
       "4 -126.970780 -0.309309  141.043881  "
      ]
     },
     "execution_count": 46,
     "metadata": {},
     "output_type": "execute_result"
    }
   ],
   "source": [
    "df = pd.read_csv('test.csv')\n",
    "df.head()"
   ]
  },
  {
   "cell_type": "code",
   "execution_count": 47,
   "metadata": {},
   "outputs": [],
   "source": [
    "wind_horizontal = []\n",
    "wind_vertical = []\n",
    "for i in range(df.shape[0]):\n",
    "\n",
    "    alpha = df.iloc[i]['alpha']\n",
    "    beta = df.iloc[i]['beta']\n",
    "    attitude = df.iloc[i][[\"phi\", \"theta\", \"psi\"]].values\n",
    "    vel = df.iloc[i][[\"INS_U\", \"INS_V\", \"INS_W\"]].values\n",
    "    tas = df.iloc[i]['TAS']\n",
    "\n",
    "    wind = calcWind.calcWind(alpha, beta, attitude, vel, tas)\n",
    "    wind_horizontal.append(np.sqrt(wind[0]**2 + wind[1]**2))\n",
    "    wind_vertical.append(wind[2])\n"
   ]
  },
  {
   "cell_type": "code",
   "execution_count": 48,
   "metadata": {},
   "outputs": [
    {
     "data": {
      "text/plain": [
       "[<matplotlib.lines.Line2D at 0x7efdca8406a0>]"
      ]
     },
     "execution_count": 48,
     "metadata": {},
     "output_type": "execute_result"
    },
    {
     "data": {
      "image/png": "[encoded data removed]",
      "text/plain": [
       "<Figure size 432x288 with 1 Axes>"
      ]
     },
     "metadata": {
      "needs_background": "light"
     },
     "output_type": "display_data"
    }
   ],
   "source": [
    "plt.plot(wind_horizontal)"
   ]
  },
  {
   "cell_type": "code",
   "execution_count": 49,
   "metadata": {},
   "outputs": [
    {
     "data": {
      "text/plain": [
       "[<matplotlib.lines.Line2D at 0x7efdca79f040>]"
      ]
     },
     "execution_count": 49,
     "metadata": {},
     "output_type": "execute_result"
    },
    {
     "data": {
      "image/png": "[encoded data removed]",
      "text/plain": [
       "<Figure size 432x288 with 1 Axes>"
      ]
     },
     "metadata": {
      "needs_background": "light"
     },
     "output_type": "display_data"
    }
   ],
   "source": [
    "plt.plot(wind_vertical)\n"
   ]
  }
 ],
 "metadata": {
  "kernelspec": {
   "display_name": "Python 3.9.12 64-bit",
   "language": "python",
   "name": "python3"
  },
  "language_info": {
   "codemirror_mode": {
    "name": "ipython",
    "version": 3
   },
   "file_extension": ".py",
   "mimetype": "text/x-python",
   "name": "python",
   "nbconvert_exporter": "python",
   "pygments_lexer": "ipython3",
   "version": "3.9.12"
  },
  "orig_nbformat": 4,
  "vscode": {
   "interpreter": {
    "hash": "949777d72b0d2535278d3dc13498b2535136f6dfe0678499012e853ee9abcab1"
   }
  }
 },
 "nbformat": 4,
 "nbformat_minor": 2
}
